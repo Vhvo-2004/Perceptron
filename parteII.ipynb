{
 "cells": [
  {
   "cell_type": "markdown",
   "id": "b192363d",
   "metadata": {},
   "source": [
    "# Parte I"
   ]
  },
  {
   "cell_type": "code",
   "execution_count": 1,
   "id": "be75bfc7",
   "metadata": {},
   "outputs": [
    {
     "name": "stderr",
     "output_type": "stream",
     "text": [
      "C:\\Users\\USER\\AppData\\Local\\Temp\\ipykernel_20524\\2118289837.py:4: DeprecationWarning: the 'NONE' constant is deprecated, use the 'HRuleStyle' and 'VRuleStyle' enums instead\n",
      "  from prettytable import PrettyTable, NONE\n"
     ]
    }
   ],
   "source": [
    "import numpy as np\n",
    "import matplotlib.pyplot as plt\n",
    "from matplotlib.lines import Line2D\n",
    "from prettytable import PrettyTable, NONE"
   ]
  },
  {
   "cell_type": "code",
   "execution_count": 2,
   "id": "c658bc2d",
   "metadata": {},
   "outputs": [],
   "source": [
    "np.random.seed(3)"
   ]
  },
  {
   "cell_type": "code",
   "execution_count": 3,
   "id": "b6fbe7d3",
   "metadata": {},
   "outputs": [],
   "source": [
    "dataset = np.fromfile(\"./data/dataAll.txt\", dtype=np.float64)"
   ]
  },
  {
   "cell_type": "code",
   "execution_count": 4,
   "id": "0ac57e7a-a31e-44c3-ab1d-8d81a65cf069",
   "metadata": {},
   "outputs": [
    {
     "name": "stdout",
     "output_type": "stream",
     "text": [
      "(3000,)\n",
      "[-363.7884  244.1423    0.     ... -140.147   734.0983    0.    ]\n"
     ]
    }
   ],
   "source": [
    "print(dataset.shape)\n",
    "print(dataset)"
   ]
  },
  {
   "cell_type": "markdown",
   "id": "96dce8f8-b906-4214-a564-dd556aa47da6",
   "metadata": {},
   "source": [
    "O dataset encontra-se atualmente em um array unidimensional com 3000 elementos, organizados sequencialmente em grupos de 3. Isso indica a necessidade de reestruturar o array para uma forma matricial com 3 colunas, de modo a viabilizar uma manipulação mais eficiente e semântica dos dados."
   ]
  },
  {
   "cell_type": "markdown",
   "id": "2a1e8b1a",
   "metadata": {},
   "source": [
    "## Redimensionando o dataset"
   ]
  },
  {
   "cell_type": "markdown",
   "id": "c65a9ace-705a-4f3d-896d-5fda0a07b809",
   "metadata": {},
   "source": [
    "A função reshape é utilizada para modificar a estrutura de um array sem alterar seus dados. Na forma em que está sendo aplicada, o valor 3 especifica o novo número de colunas, enquanto o parâmetro -1 instrui o NumPy a calcular automaticamente a quantidade de linhas necessária com base no total de elementos disponíveis."
   ]
  },
  {
   "cell_type": "code",
   "execution_count": 5,
   "id": "ca6b8035",
   "metadata": {},
   "outputs": [],
   "source": [
    "dataset = dataset.reshape(-1,3)"
   ]
  },
  {
   "cell_type": "code",
   "execution_count": 6,
   "id": "32a8c5c2",
   "metadata": {},
   "outputs": [
    {
     "name": "stdout",
     "output_type": "stream",
     "text": [
      "[[-363.7884  244.1423    0.    ]\n",
      " [ 328.7572 -256.7658    1.    ]\n",
      " [-164.9827  613.2164    0.    ]\n",
      " ...\n",
      " [ 872.4311  669.1192    1.    ]\n",
      " [ 822.6894 -702.6489    1.    ]\n",
      " [-140.147   734.0983    0.    ]]\n"
     ]
    }
   ],
   "source": [
    "dataset.shape\n",
    "print(dataset)"
   ]
  },
  {
   "cell_type": "markdown",
   "id": "090a9b7c",
   "metadata": {},
   "source": [
    "# Adicionando o viés ($x_0 = -1$)"
   ]
  },
  {
   "cell_type": "markdown",
   "id": "ff0b19da-4560-4934-b52b-65057ddacea7",
   "metadata": {},
   "source": [
    "Criando um array coluna que possui os valores de -1 no neuronio perceptron "
   ]
  },
  {
   "cell_type": "code",
   "execution_count": 7,
   "id": "c36c1fc0",
   "metadata": {},
   "outputs": [
    {
     "name": "stdout",
     "output_type": "stream",
     "text": [
      "(1000, 1)\n",
      "<class 'numpy.ndarray'>\n"
     ]
    }
   ],
   "source": [
    "vies = -1 * np.ones((dataset.shape[0], 1))\n",
    "print(vies.shape)\n",
    "print(type(vies))"
   ]
  },
  {
   "cell_type": "markdown",
   "id": "bd68aab2-f2c7-4738-bf14-e91e7444d0a2",
   "metadata": {},
   "source": [
    "O array coluna é incorporado ao dataset por meio da função np.hstack, a qual realiza a concatenação horizontal de arrays, unindo a nova coluna à matriz existente ao longo do eixo das colunas."
   ]
  },
  {
   "cell_type": "code",
   "execution_count": 8,
   "id": "5dcc0a1d",
   "metadata": {},
   "outputs": [
    {
     "name": "stdout",
     "output_type": "stream",
     "text": [
      "[[  -1.     -363.7884  244.1423    0.    ]\n",
      " [  -1.      328.7572 -256.7658    1.    ]\n",
      " [  -1.     -164.9827  613.2164    0.    ]\n",
      " ...\n",
      " [  -1.      872.4311  669.1192    1.    ]\n",
      " [  -1.      822.6894 -702.6489    1.    ]\n",
      " [  -1.     -140.147   734.0983    0.    ]]\n"
     ]
    }
   ],
   "source": [
    "valores = np.hstack((vies, dataset))\n",
    "\n",
    "print(valores)"
   ]
  },
  {
   "cell_type": "markdown",
   "id": "b343418c-ac04-4d86-b9a6-91f752b73fbd",
   "metadata": {},
   "source": [
    "Com o ajuste dos dados, preocupa-se agora com a criação de uma classe perceptron capaz de tratar esses dados "
   ]
  },
  {
   "cell_type": "markdown",
   "id": "35f0232f",
   "metadata": {},
   "source": [
    "## Modelando o Perceptron"
   ]
  },
  {
   "cell_type": "markdown",
   "id": "6c5bc63d-0ec3-4c4e-ad58-07c16c5079df",
   "metadata": {},
   "source": [
    "O Perceptron é um modelo de rede neural simples que é usado para classificação binária. Foi proposto por Frank Rosenblatt em 1958 e é um dos primeiros algoritmos de redes neurais. Neste notebook representaremos ele através dessa classe."
   ]
  },
  {
   "cell_type": "markdown",
   "id": "9c0bba84",
   "metadata": {},
   "source": [
    "## Regra Delta"
   ]
  },
  {
   "cell_type": "markdown",
   "id": "fb00b292-6070-4aa1-9074-3dc17dbe6596",
   "metadata": {},
   "source": [
    "A Regra Delta é um algoritmo de aprendizado supervisionado usado para ajustar os pesos de um neurônio artificial (como o Perceptron) durante o treinamento.\n",
    "\n",
    "Ela se baseia na ideia de minimizar o erro entre a saída desejada e a saída do neurônio, ajustando os pesos com base nesse erro."
   ]
  },
  {
   "cell_type": "code",
   "execution_count": 9,
   "id": "085291d7",
   "metadata": {},
   "outputs": [],
   "source": [
    "class Perceptron:\n",
    "    def __init__(self, intervalo, ativacao, tamanho_input):\n",
    "        self.intervalo = intervalo\n",
    "        self.ativacao = ativacao\n",
    "        self.pesos = np.random.uniform(self.intervalo[0], self.intervalo[1], size=tamanho_input)\n",
    "        self.ajustes = 0\n",
    "\n",
    "    def __str__(self):\n",
    "        cabecalho = \"Perceptron de Rosenblatt\\n\"\n",
    "        numero_ajustes = f\"Número de ajustes: {self.ajustes}\\n\"\n",
    "        pesos = f\"Pesos: w0 = {self.pesos[0]}; w1 = {self.pesos[1]}; w2 = {self.pesos[2]}\\n\"\n",
    "        return (cabecalho + numero_ajustes + pesos)\n",
    "\n",
    "    def get_pesos(self):\n",
    "        return self.pesos\n",
    "    \n",
    "    def get_ajustes(self):\n",
    "        return self.ajustes\n",
    "    \n",
    "    def ajuste_pesos(self, novos_pesos):\n",
    "        self.pesos = novos_pesos\n",
    "        self.ajustes += 1\n",
    "    \n",
    "    def forward(self, X):\n",
    "        u = np.dot(X, self.pesos)\n",
    "        y = self.ativacao(u)\n",
    "        return y\n",
    "        \n",
    "    def regra_delta(self, x_n, erro, eta=0.1):\n",
    "        novos_pesos = self.pesos + eta * erro * x_n\n",
    "        return novos_pesos\n",
    "        \n",
    "    def fit(self, valores, eta=0.1):\n",
    "        epocas = 0\n",
    "        aprender = True\n",
    "    \n",
    "        while aprender:\n",
    "            epocas += 1\n",
    "            aprender = False\n",
    "            for val in valores:\n",
    "                x_n = val[:3]\n",
    "                y_chapeu = self.forward(x_n)\n",
    "                y_d = val[3]\n",
    "                e = y_d - y_chapeu\n",
    "                if int(e) != 0:\n",
    "                    aprender = True\n",
    "                    novos_pesos = self.regra_delta(x_n, e, eta)\n",
    "                    self.ajuste_pesos(novos_pesos)\n",
    "        \n",
    "        return (self.get_ajustes(), epocas)\n"
   ]
  },
  {
   "cell_type": "markdown",
   "id": "8ff8878c",
   "metadata": {},
   "source": [
    "## Função de Ativação"
   ]
  },
  {
   "cell_type": "markdown",
   "id": "538520f7-91e1-4404-8934-5daddf2e8c93",
   "metadata": {},
   "source": [
    "A função de ativação solicitada é a função degrau, a qual é representada pela seguinte expressão:"
   ]
  },
  {
   "cell_type": "code",
   "execution_count": 10,
   "id": "fa2bd716",
   "metadata": {},
   "outputs": [],
   "source": [
    "def degrau(x, tetha=0):\n",
    "    if x-tetha < 0:\n",
    "        return 0\n",
    "    return 1"
   ]
  },
  {
   "cell_type": "markdown",
   "id": "25cb2e4d",
   "metadata": {},
   "source": [
    "## Inicialização"
   ]
  },
  {
   "cell_type": "markdown",
   "id": "8e25c273-7555-4634-9d0b-8e8856c984eb",
   "metadata": {},
   "source": [
    "Instanciando o perceptron com os valores solicitados."
   ]
  },
  {
   "cell_type": "code",
   "execution_count": 11,
   "id": "1c8d9c3c",
   "metadata": {},
   "outputs": [],
   "source": [
    "tamanho_input = valores.shape[1] - 1 \n",
    "neuronio = Perceptron((-0.5, 0.5), degrau, tamanho_input)"
   ]
  },
  {
   "cell_type": "code",
   "execution_count": 12,
   "id": "1b7454f9",
   "metadata": {},
   "outputs": [
    {
     "name": "stdout",
     "output_type": "stream",
     "text": [
      "Perceptron de Rosenblatt\n",
      "Número de ajustes: 0\n",
      "Pesos: w0 = 0.050797902574575504; w1 = 0.20814782261810483; w2 = -0.20909526108705567\n",
      "\n"
     ]
    }
   ],
   "source": [
    "print(neuronio)"
   ]
  },
  {
   "cell_type": "markdown",
   "id": "30db1c92",
   "metadata": {},
   "source": [
    "## Treinamento"
   ]
  },
  {
   "cell_type": "code",
   "execution_count": 13,
   "id": "7f1c4507",
   "metadata": {},
   "outputs": [],
   "source": [
    "ajustes, epocas = neuronio.fit(valores, eta=0.1)"
   ]
  },
  {
   "cell_type": "code",
   "execution_count": 14,
   "id": "1a924358",
   "metadata": {},
   "outputs": [
    {
     "name": "stdout",
     "output_type": "stream",
     "text": [
      "O treinamento terminou em 6 épocas e com 115 ajustes nos pesos\n"
     ]
    }
   ],
   "source": [
    "print(f\"O treinamento terminou em {epocas} épocas e com {ajustes} ajustes nos pesos\")"
   ]
  },
  {
   "cell_type": "code",
   "execution_count": 15,
   "id": "daa5ac59",
   "metadata": {},
   "outputs": [
    {
     "name": "stdout",
     "output_type": "stream",
     "text": [
      "Perceptron de Rosenblatt\n",
      "Número de ajustes: 115\n",
      "Pesos: w0 = -0.4492020974254245; w1 = 450.57542782261805; w2 = -450.7064152610871\n",
      "\n"
     ]
    }
   ],
   "source": [
    "print(neuronio)"
   ]
  },
  {
   "cell_type": "code",
   "execution_count": 16,
   "id": "04570896",
   "metadata": {},
   "outputs": [],
   "source": [
    "w0, w1, w2 = neuronio.get_pesos()"
   ]
  },
  {
   "cell_type": "code",
   "execution_count": 17,
   "id": "4cdfd0f1",
   "metadata": {},
   "outputs": [
    {
     "data": {
      "image/png": "[encoded data removed]",
      "text/plain": [
       "<Figure size 640x480 with 1 Axes>"
      ]
     },
     "metadata": {},
     "output_type": "display_data"
    }
   ],
   "source": [
    "cores = np.where(dataset[:, 2] == 0, 'red', 'blue')\n",
    "\n",
    "plt.scatter(dataset[:, 0], dataset[:, 1], c=cores, s=1)\n",
    "\n",
    "x = np.linspace(-1000, 1000, 100)\n",
    "y = w0/w2 - x * w1/w2\n",
    "plt.plot(x, y, c='k')\n",
    "\n",
    "legenda = [\n",
    "       Line2D([0], [0], marker='o', color='w', label='Classe 0',\n",
    "           markerfacecolor='red', markersize=4),\n",
    "       Line2D([0], [0], marker='o', color='w', label='Classe 1',\n",
    "           markerfacecolor='blue', markersize=4),\n",
    "       Line2D([], [], color='k', linestyle='-', label='Reta resultante')\n",
    "]\n",
    "plt.legend(handles=legenda)\n",
    "plt.title(\"Resultado do treinamento do neurônio Perceptron\")\n",
    "plt.show()"
   ]
  },
  {
   "cell_type": "markdown",
   "id": "0364ed3d",
   "metadata": {},
   "source": [
    "# Parte II"
   ]
  },
  {
   "cell_type": "code",
   "execution_count": 18,
   "id": "b1396e7f",
   "metadata": {},
   "outputs": [],
   "source": [
    "dataset2 = np.fromfile(\"./data/data0.txt\", dtype=np.float64)"
   ]
  },
  {
   "cell_type": "code",
   "execution_count": 19,
   "id": "cd5453fe",
   "metadata": {},
   "outputs": [],
   "source": [
    "dataset2 = dataset2.reshape(-1,3)"
   ]
  },
  {
   "cell_type": "code",
   "execution_count": 20,
   "id": "3d7c0805",
   "metadata": {},
   "outputs": [
    {
     "data": {
      "text/plain": [
       "(600, 3)"
      ]
     },
     "execution_count": 20,
     "metadata": {},
     "output_type": "execute_result"
    }
   ],
   "source": [
    "dataset2.shape"
   ]
  },
  {
   "cell_type": "markdown",
   "id": "821b7a9e",
   "metadata": {},
   "source": [
    "### Adicionando o viés ($x_0 = -1$)"
   ]
  },
  {
   "cell_type": "code",
   "execution_count": 21,
   "id": "5ddad84e",
   "metadata": {},
   "outputs": [],
   "source": [
    "vies = -1 * np.ones((dataset2.shape[0], 1))"
   ]
  },
  {
   "cell_type": "code",
   "execution_count": 22,
   "id": "80d3e585",
   "metadata": {},
   "outputs": [],
   "source": [
    "valores2 = np.hstack((vies, dataset2))"
   ]
  },
  {
   "cell_type": "markdown",
   "id": "fb228d4a",
   "metadata": {},
   "source": [
    "## Teste de diferentes confugurações de $\\eta$ e $I$"
   ]
  },
  {
   "cell_type": "code",
   "execution_count": 23,
   "id": "7252f306",
   "metadata": {},
   "outputs": [],
   "source": [
    "def grid_search(etas, intervalos):\n",
    "    g1, g2 = np.meshgrid(etas, intervalos[:,0])\n",
    "    _, g3 = np.meshgrid(etas, intervalos[:,1])\n",
    "    grid = np.hstack([g1.reshape(-1, 1), g2.reshape(-1, 1), g3.reshape(-1, 1)]) # Resulta no produto carteziano etas X intervalos [[eta, -lim, +lim], ...]\n",
    "\n",
    "    tabela = PrettyTable()\n",
    "    tabela.vrules = NONE\n",
    "    tabela.title = 'Configurações'\n",
    "    tabela.field_names = [[\"Taxa de Aprendizado\"], \"Intervalo de Pesos\", \"Média dos Ajustes\", \"Desvio Padrão dos Ajustes\", \"Menor número de épocas para a convergência\"]\n",
    "\n",
    "    for configuracao in grid:\n",
    "        eta = configuracao[0]\n",
    "        intervalo = configuracao[1:3]\n",
    "        print(f\"Configuração - Taxa de aprendizado: {eta}, Intervalo: {intervalo}\")\n",
    "\n",
    "        ajustes = np.array([])\n",
    "        menor_n_epocas = np.inf\n",
    "        print(\"Treinos\")\n",
    "        for i in range(10):\n",
    "            print(f\"{i + 1}/10\", end='\\r')\n",
    "            neuro = Perceptron(intervalo, degrau, valores2.shape[1] - 1)\n",
    "            ajuste, epocas = neuro.fit(valores2, eta)\n",
    "\n",
    "            ajustes = np.insert(ajustes, 0, ajuste)\n",
    "            \n",
    "            if epocas < menor_n_epocas:\n",
    "                menor_n_epocas = epocas\n",
    "        print()\n",
    "        \n",
    "        tabela.add_row([eta, (float(intervalo[0]), float(intervalo[1])), ajustes.mean(), ajustes.std(), menor_n_epocas])\n",
    "\n",
    "    print(\"\\n Último neurônio:\")\n",
    "    print(neuro)\n",
    "    return tabela\n"
   ]
  },
  {
   "cell_type": "code",
   "execution_count": 24,
   "id": "e579ede8",
   "metadata": {},
   "outputs": [],
   "source": [
    "etas = np.array([0.4, 0.1, 0.01])\n",
    "intervalos = np.array([(-100, 100), (-0.5, 0.5)])"
   ]
  },
  {
   "cell_type": "code",
   "execution_count": 25,
   "id": "17756c67",
   "metadata": {},
   "outputs": [
    {
     "name": "stdout",
     "output_type": "stream",
     "text": [
      "Configuração - Taxa de aprendizado: 0.4, Intervalo: [-100.  100.]\n",
      "Treinos\n",
      "10/10\n",
      "Configuração - Taxa de aprendizado: 0.1, Intervalo: [-100.  100.]\n",
      "Treinos\n",
      "10/10\n",
      "Configuração - Taxa de aprendizado: 0.01, Intervalo: [-100.  100.]\n",
      "Treinos\n",
      "10/10\n",
      "Configuração - Taxa de aprendizado: 0.4, Intervalo: [-0.5  0.5]\n",
      "Treinos\n",
      "10/10\n",
      "Configuração - Taxa de aprendizado: 0.1, Intervalo: [-0.5  0.5]\n",
      "Treinos\n",
      "10/10\n",
      "Configuração - Taxa de aprendizado: 0.01, Intervalo: [-0.5  0.5]\n",
      "Treinos\n",
      "10/10\n",
      "\n",
      " Último neurônio:\n",
      "Perceptron de Rosenblatt\n",
      "Número de ajustes: 58\n",
      "Pesos: w0 = 0.16529335110636545; w1 = 0.09200854052908104; w2 = 0.2570211518186255\n",
      "\n"
     ]
    }
   ],
   "source": [
    "tabela = grid_search(etas, intervalos)"
   ]
  },
  {
   "cell_type": "markdown",
   "id": "a487d822",
   "metadata": {},
   "source": [
    "### Resultados"
   ]
  },
  {
   "cell_type": "code",
   "execution_count": 26,
   "id": "39977cb3",
   "metadata": {},
   "outputs": [
    {
     "name": "stdout",
     "output_type": "stream",
     "text": [
      "                                                                Configurações                                                                \n",
      "---------------------------------------------------------------------------------------------------------------------------------------------\n",
      "  ['Taxa de Aprendizado']   Intervalo de Pesos   Média dos Ajustes   Desvio Padrão dos Ajustes   Menor número de épocas para a convergência  \n",
      "---------------------------------------------------------------------------------------------------------------------------------------------\n",
      "            0.4              (-100.0, 100.0)           295.8             190.49871390641985                          7                       \n",
      "            0.1              (-100.0, 100.0)           1011.5            573.3104307441126                           7                       \n",
      "            0.01             (-100.0, 100.0)           9839.6            10050.378243628445                          1                       \n",
      "            0.4                (-0.5, 0.5)              8.0              3.492849839314596                           2                       \n",
      "            0.1                (-0.5, 0.5)              9.9               4.0853396431631                            2                       \n",
      "            0.01               (-0.5, 0.5)              59.9             16.81338752304246                           2                       \n",
      "---------------------------------------------------------------------------------------------------------------------------------------------\n"
     ]
    }
   ],
   "source": [
    "print(tabela)"
   ]
  },
  {
   "cell_type": "markdown",
   "id": "549f4cea",
   "metadata": {},
   "source": [
    "### Análise dos Resultados\n",
    "\n",
    "Para os casos em que os pesos são inicializados em um intervalo maior $(-100, +100)$, podemos notar que tanto o número de ajustes quanto o número de épocas para a convergência tendem a ser maiores. Os resultados também mostram que, quanto menor a taxa de aprendizado, maior é o número de ajustes necessários para a convergência.\n",
    "\n",
    "No entanto, o menor número médio de ajustes para casos com pesos inicializados entre $(-0.5, +0.5)$ não é uma regra geral. No caso do experimento, isso só foi verdade porque existia uma solução dentro desse intervalo. Caso escolhêssemos um intervalo pequeno, mas distante de uma solução, o número de ajustes seria maior. No caso de não sabermos a região onde possivelmete existe uma solução, a melhor alternativa é escolher um intervalo maior. "
   ]
  }
 ],
 "metadata": {
  "kernelspec": {
   "display_name": "Python 3 (ipykernel)",
   "language": "python",
   "name": "python3"
  },
  "language_info": {
   "codemirror_mode": {
    "name": "ipython",
    "version": 3
   },
   "file_extension": ".py",
   "mimetype": "text/x-python",
   "name": "python",
   "nbconvert_exporter": "python",
   "pygments_lexer": "ipython3",
   "version": "3.12.9"
  }
 },
 "nbformat": 4,
 "nbformat_minor": 5
}
