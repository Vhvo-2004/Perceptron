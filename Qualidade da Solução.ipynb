{
 "cells": [
  {
   "cell_type": "markdown",
   "id": "20574215-c310-4052-90fb-4272c5ecfe73",
   "metadata": {},
   "source": [
    "## Qualidade da solução"
   ]
  },
  {
   "cell_type": "markdown",
   "id": "acae8a30-607b-4d50-800a-64f4aeb621b0",
   "metadata": {},
   "source": [
    "Com os resultados, é possível perceber que o neurônio perceptron não obteve uma solução tão satisfatória para um problema linearmente não separável, apesar de ter conseguido capturar certo padrão nos dados.\n",
    "\n",
    "A partir disso, poddemos destacar:\n",
    "\n",
    "A acurácia representa a proporção de acertos em relação ao total de exemplos. Como a acurácia foi aproximadamente 48%, isso indica que o Perceptron foi capaz de capturar algum padrão nos dados, mas apresentou limitações consideráveis.\n",
    "\n",
    "A precisão mede quantas das previsões positivas estavam corretas, com um valor alto indicando poucos falsos positivos. Como obtemos uma precisão de aproximadamente 23%, podemos concluir que a solução não seria muito válida para problemas onde os erros positivos são mais críticos.\n",
    "\n",
    "Já a revocação avalia quantas das amostras realmente positivas foram corretamente identificadas, com um valor alto indicando uma baixa taxa de falsos negativos. Obtemos cerca de 51% de revocação, ou seja, apesar de não ser uma taxa ótima, é possível concluir que a solução é mais válida para problemas onde os erros negativos são mais críticos.\n",
    "\n",
    "O F1-score, como média harmônica entre precisão e revocação, fornece uma visão balanceada do desempenho quando há desequilíbrio entre as classes. Obtemos uma taxa de aproximadamente 31%, o que mostra que o modelo está acertando pouco nas suas classificações.\n",
    "\n",
    "Portanto, os resultados demonstram que embora o Perceptron possa funcionar como uma solução inicial e simples, sendo, mesmo que minimamente, capaz de capturar algum padrão nos dados, ele não é muito adequado para problemas linearmente não separáveis, servindo mais como uma base introdutória para o aprendizado supervisionado."
   ]
  }
 ],
 "metadata": {
  "kernelspec": {
   "display_name": "Python 3 (ipykernel)",
   "language": "python",
   "name": "python3"
  },
  "language_info": {
   "codemirror_mode": {
    "name": "ipython",
    "version": 3
   },
   "file_extension": ".py",
   "mimetype": "text/x-python",
   "name": "python",
   "nbconvert_exporter": "python",
   "pygments_lexer": "ipython3",
   "version": "3.12.7"
  }
 },
 "nbformat": 4,
 "nbformat_minor": 5
}
